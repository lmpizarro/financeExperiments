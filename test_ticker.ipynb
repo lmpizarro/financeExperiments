{
 "cells": [
  {
   "cell_type": "code",
   "execution_count": 1,
   "metadata": {},
   "outputs": [
    {
     "name": "stdout",
     "output_type": "stream",
     "text": [
      "['/home/lmpizarro/devel/project/finance', '/usr/lib/python37.zip', '/usr/lib/python3.7', '/usr/lib/python3.7/lib-dynload', '', '/home/lmpizarro/devel/flaskEnv/lib/python3.7/site-packages', '/home/lmpizarro/devel/flaskEnv/lib/python3.7/site-packages/IPython/extensions', '/home/lmpizarro/.ipython', '/home/lmpizarro/devel/project']\n",
      "TEO 0.006351814107081272\n",
      "DESP 0.0062179703206797264\n",
      "MELI 0.005258140373825365\n",
      "GLOB 0.004361696515220116\n",
      "BMA 0.012138929242811155\n",
      "BBAR 0.011389150457033521\n",
      "SUPV 0.013346230944368712\n",
      "GGAL 0.013035791124783579\n",
      "TS 0.0056580022101750255\n",
      "TX 0.0044206206659561645\n",
      "PAM 0.010624682954349566\n",
      "EDN 0.012789317871123163\n",
      "CEPU 0.010699578356201372\n",
      "YPF 0.007921533183858518\n",
      "PBR 0.004968478297364554\n",
      "TGS 0.00870426484052678\n",
      "LOMA 0.009913839786641827\n",
      "IRS 0.007289879597188165\n",
      "CRESY 0.0068072870469875965\n"
     ]
    }
   ],
   "source": [
    "import sys\n",
    "import os\n",
    "import datetime\n",
    "from datetime import timedelta\n",
    "\n",
    "t2 = timedelta(weeks=0, days=365, hours=0, seconds=0)\n",
    "\n",
    "begin = str(datetime.date.today() - t2)\n",
    "\n",
    "dir_base = os.path.abspath('../')\n",
    "sys.path.append(dir_base)\n",
    "\n",
    "print(sys.path)\n",
    "\n",
    "from ticker import Ticker\n",
    "from matplotlib import pyplot as plt\n",
    "\n",
    "\n",
    "if __name__ == '__main__':\n",
    "    tickers = ['^MERV', 'ALUA', 'BMA', 'BBAR', 'BYMA', 'CVH', 'CEPU', 'CRES', 'EDN', 'GGAL', 'VALO', 'SUPV',\n",
    "              'MIRG', 'PAMP', 'COME', 'TECO2', 'TXAR', 'TRAN', 'TGNO4', 'TGSUD2', 'YPFD', 'TS', 'APBR']\n",
    "    \n",
    "    tickers = ['TEO', 'DESP', 'MELI', 'GLOB', 'BMA','BBAR', 'SUPV', 'GGAL', 'TS', \n",
    "            'TX', 'PAM', 'EDN', 'CEPU', 'YPF', 'PBR', 'TGS', 'LOMA', 'IRS', 'CRESY']\n",
    "\n",
    "    BA = False\n",
    "    \n",
    "    for ticker in tickers:\n",
    "        try:\n",
    "            if BA == True:   \n",
    "                tck = Ticker(ticker + '.BA', begin=begin)\n",
    "            else:\n",
    "                tck = Ticker(ticker, begin=begin)\n",
    "                    \n",
    "            a, b, c = tck.get_boll()\n",
    "            tck.get_ma_close()\n",
    "            tck.get_volume()\n",
    "            vol = tck.get_volatility(len_ma=20)\n",
    "            print(ticker, vol.mean())\n",
    "        except Exception as e:\n",
    "            print(ticker, 'ERROR', e)"
   ]
  },
  {
   "cell_type": "code",
   "execution_count": 30,
   "metadata": {},
   "outputs": [
    {
     "ename": "SyntaxError",
     "evalue": "invalid syntax (<ipython-input-30-1feaf9ddecae>, line 1)",
     "output_type": "error",
     "traceback": [
      "\u001b[0;36m  File \u001b[0;32m\"<ipython-input-30-1feaf9ddecae>\"\u001b[0;36m, line \u001b[0;32m1\u001b[0m\n\u001b[0;31m    TEO 0.004110577206654515\u001b[0m\n\u001b[0m                           ^\u001b[0m\n\u001b[0;31mSyntaxError\u001b[0m\u001b[0;31m:\u001b[0m invalid syntax\n"
     ]
    }
   ],
   "source": [
    "TEO 0.004110577206654515\n",
    "DESP 0.004247852234074967\n",
    "MELI 0.0041620299476439635\n",
    "GLOB 0.0031008849989575646\n",
    "BMA 0.00800391949587051\n",
    "BBAR 0.007024835213513095\n",
    "SUPV 0.008196687467833612\n",
    "GGAL 0.007986522373313817\n",
    "TS 0.0036979028436995424\n",
    "TX 0.0032252125513233306\n",
    "PAM 0.006989501252802461\n",
    "EDN 0.00743391746193479\n",
    "CEPU 0.006543402867609838\n",
    "YPF 0.0049935863036914205\n",
    "PBR 0.003752597304421944\n",
    "TGS 0.0055364092684564515\n",
    "LOMA 0.006224273812129514\n",
    "IRS 0.0049100782311440345\n",
    "CRESY 0.0046300858875500586\n"
   ]
  },
  {
   "cell_type": "code",
   "execution_count": null,
   "metadata": {},
   "outputs": [],
   "source": []
  }
 ],
 "metadata": {
  "kernelspec": {
   "display_name": "Python 3",
   "language": "python",
   "name": "python3"
  },
  "language_info": {
   "codemirror_mode": {
    "name": "ipython",
    "version": 3
   },
   "file_extension": ".py",
   "mimetype": "text/x-python",
   "name": "python",
   "nbconvert_exporter": "python",
   "pygments_lexer": "ipython3",
   "version": "3.7.3"
  }
 },
 "nbformat": 4,
 "nbformat_minor": 2
}
